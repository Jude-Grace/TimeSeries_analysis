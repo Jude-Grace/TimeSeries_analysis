{
 "cells": [
  {
   "cell_type": "code",
   "execution_count": 106,
   "metadata": {},
   "outputs": [],
   "source": [
    "#pip install yfinance\n"
   ]
  },
  {
   "cell_type": "code",
   "execution_count": 18,
   "metadata": {},
   "outputs": [
    {
     "name": "stdout",
     "output_type": "stream",
     "text": [
      "Collecting nsepy\n",
      "  Using cached https://files.pythonhosted.org/packages/89/52/2e9f0de0c687ad181f17e0783319d31d66869c410793c5b94dc6cd4b3db2/nsepy-0.8.tar.gz\n",
      "Collecting beautifulsoup4\n",
      "  Using cached https://files.pythonhosted.org/packages/69/bf/f0f194d3379d3f3347478bd267f754fc68c11cbf2fe302a6ab69447b1417/beautifulsoup4-4.10.0-py3-none-any.whl\n",
      "Requirement already satisfied: requests in c:\\anaconda3\\envs\\tf\\lib\\site-packages (from nsepy) (2.27.1)\n",
      "Requirement already satisfied: numpy in c:\\anaconda3\\envs\\tf\\lib\\site-packages (from nsepy) (1.17.4)\n",
      "Requirement already satisfied: pandas in c:\\anaconda3\\envs\\tf\\lib\\site-packages (from nsepy) (0.25.3)\n",
      "Requirement already satisfied: six in c:\\anaconda3\\envs\\tf\\lib\\site-packages (from nsepy) (1.13.0)\n",
      "Requirement already satisfied: click in c:\\anaconda3\\envs\\tf\\lib\\site-packages (from nsepy) (7.1.2)\n",
      "Requirement already satisfied: lxml in c:\\anaconda3\\envs\\tf\\lib\\site-packages (from nsepy) (4.5.1)\n",
      "Collecting soupsieve>1.2\n",
      "  Using cached https://files.pythonhosted.org/packages/72/a6/fd01694427f1c3fcadfdc5f1de901b813b9ac756f0806ef470cfed1de281/soupsieve-2.3.1-py3-none-any.whl\n",
      "Requirement already satisfied: charset-normalizer~=2.0.0; python_version >= \"3\" in c:\\anaconda3\\envs\\tf\\lib\\site-packages (from requests->nsepy) (2.0.10)\n",
      "Requirement already satisfied: certifi>=2017.4.17 in c:\\anaconda3\\envs\\tf\\lib\\site-packages (from requests->nsepy) (2020.6.20)\n",
      "Requirement already satisfied: urllib3<1.27,>=1.21.1 in c:\\users\\ramisha krishnasamy\\appdata\\roaming\\python\\python37\\site-packages (from requests->nsepy) (1.25.7)\n",
      "Requirement already satisfied: idna<4,>=2.5; python_version >= \"3\" in c:\\users\\ramisha krishnasamy\\appdata\\roaming\\python\\python37\\site-packages (from requests->nsepy) (2.8)\n",
      "Requirement already satisfied: pytz>=2017.2 in c:\\anaconda3\\envs\\tf\\lib\\site-packages (from pandas->nsepy) (2019.3)\n",
      "Requirement already satisfied: python-dateutil>=2.6.1 in c:\\anaconda3\\envs\\tf\\lib\\site-packages (from pandas->nsepy) (2.8.1)\n",
      "Building wheels for collected packages: nsepy\n",
      "  Building wheel for nsepy (setup.py): started\n",
      "  Building wheel for nsepy (setup.py): finished with status 'done'\n",
      "  Created wheel for nsepy: filename=nsepy-0.8-cp37-none-any.whl size=36089 sha256=95078d4039402492920a34a337edde65ea2caa0df37092c06af594c57679e44a\n",
      "  Stored in directory: C:\\Users\\Ramisha Krishnasamy\\AppData\\Local\\pip\\Cache\\wheels\\05\\2c\\72\\5324e267426eea65dec0c21a12a48b15887c0cf686c7a8fe11\n",
      "Successfully built nsepy\n",
      "Installing collected packages: soupsieve, beautifulsoup4, nsepy\n",
      "Successfully installed beautifulsoup4-4.10.0 nsepy-0.8 soupsieve-2.3.1\n",
      "Note: you may need to restart the kernel to use updated packages.\n"
     ]
    }
   ],
   "source": [
    "#pip install nsepy"
   ]
  },
  {
   "cell_type": "code",
   "execution_count": 2,
   "metadata": {},
   "outputs": [],
   "source": [
    "from Descriptive import Descriptive"
   ]
  },
  {
   "cell_type": "code",
   "execution_count": 3,
   "metadata": {},
   "outputs": [],
   "source": [
    "obj=Descriptive()"
   ]
  },
  {
   "cell_type": "code",
   "execution_count": 157,
   "metadata": {},
   "outputs": [],
   "source": [
    "from nsepy import get_history as gh\n",
    "import datetime as dt\n",
    "start = dt.datetime(2021,6,1)\n",
    "end = dt.datetime(2022,1,5)\n",
    "stk_data = gh(symbol='PROZONINTU',start=start,end=end)\n"
   ]
  },
  {
   "cell_type": "code",
   "execution_count": 158,
   "metadata": {},
   "outputs": [
    {
     "name": "stdout",
     "output_type": "stream",
     "text": [
      "<class 'pandas.core.frame.DataFrame'>\n",
      "Index: 116 entries, 2021-06-01 to 2022-01-03\n",
      "Data columns (total 14 columns):\n",
      "Symbol                116 non-null object\n",
      "Series                116 non-null object\n",
      "Prev Close            116 non-null float64\n",
      "Open                  116 non-null float64\n",
      "High                  116 non-null float64\n",
      "Low                   116 non-null float64\n",
      "Last                  116 non-null float64\n",
      "Close                 116 non-null float64\n",
      "VWAP                  116 non-null float64\n",
      "Volume                116 non-null int64\n",
      "Turnover              116 non-null float64\n",
      "Trades                116 non-null int64\n",
      "Deliverable Volume    116 non-null int64\n",
      "%Deliverble           116 non-null float64\n",
      "dtypes: float64(9), int64(3), object(2)\n",
      "memory usage: 13.6+ KB\n"
     ]
    }
   ],
   "source": [
    "stk_data.info()"
   ]
  },
  {
   "cell_type": "code",
   "execution_count": 159,
   "metadata": {},
   "outputs": [],
   "source": [
    "low=stk_data[\"Low\"]"
   ]
  },
  {
   "cell_type": "code",
   "execution_count": 160,
   "metadata": {},
   "outputs": [
    {
     "name": "stdout",
     "output_type": "stream",
     "text": [
      "The Quantitative Data: ['Prev Close', 'Open', 'High', 'Low', 'Last', 'Close', 'VWAP', 'Volume', 'Turnover', 'Trades', 'Deliverable Volume', '%Deliverble']\n",
      "The Qualtitative Data ['Symbol', 'Series']\n"
     ]
    }
   ],
   "source": [
    "dataset=stk_data\n",
    "quan,qual=obj.segreQuanQual(dataset)"
   ]
  },
  {
   "cell_type": "code",
   "execution_count": 161,
   "metadata": {},
   "outputs": [],
   "source": [
    "des_data=obj.descriptive_Analysis(dataset,quan)"
   ]
  },
  {
   "cell_type": "code",
   "execution_count": 162,
   "metadata": {},
   "outputs": [
    {
     "data": {
      "text/plain": [
       "Null_count             0\n",
       "NonNull_count        116\n",
       "Total_Count          116\n",
       "Mean              28.906\n",
       "Median            28.025\n",
       "Mode                26.5\n",
       "Std              2.99258\n",
       "Min                23.85\n",
       "Q1:25%           26.8875\n",
       "Q2:50%            28.025\n",
       "Q3:75%              30.1\n",
       "Q4:100%            38.25\n",
       "IQR               3.2125\n",
       "1.5Rule          4.81875\n",
       "Lesser           22.0687\n",
       "Greater          34.9188\n",
       "Name: Low, dtype: object"
      ]
     },
     "execution_count": 162,
     "metadata": {},
     "output_type": "execute_result"
    }
   ],
   "source": [
    "des_data[\"Low\"]"
   ]
  },
  {
   "cell_type": "code",
   "execution_count": 163,
   "metadata": {},
   "outputs": [
    {
     "data": {
      "text/plain": [
       "Null_count             0\n",
       "NonNull_count        116\n",
       "Total_Count          116\n",
       "Mean             30.4987\n",
       "Median            29.275\n",
       "Mode                27.5\n",
       "Std              3.43377\n",
       "Min                 25.8\n",
       "Q1:25%           27.9375\n",
       "Q2:50%            29.275\n",
       "Q3:75%           32.4125\n",
       "Q4:100%             39.8\n",
       "IQR                4.475\n",
       "1.5Rule           6.7125\n",
       "Lesser            21.225\n",
       "Greater           39.125\n",
       "Name: High, dtype: object"
      ]
     },
     "execution_count": 163,
     "metadata": {},
     "output_type": "execute_result"
    }
   ],
   "source": [
    "des_data[\"High\"]"
   ]
  },
  {
   "cell_type": "code",
   "execution_count": 164,
   "metadata": {},
   "outputs": [],
   "source": [
    "import numpy as np"
   ]
  },
  {
   "cell_type": "code",
   "execution_count": 165,
   "metadata": {},
   "outputs": [
    {
     "data": {
      "text/plain": [
       "30.1"
      ]
     },
     "execution_count": 165,
     "metadata": {},
     "output_type": "execute_result"
    }
   ],
   "source": [
    "np.percentile(dataset[\"Low\"],75)"
   ]
  },
  {
   "cell_type": "code",
   "execution_count": 166,
   "metadata": {},
   "outputs": [
    {
     "data": {
      "text/plain": [
       "32.8"
      ]
     },
     "execution_count": 166,
     "metadata": {},
     "output_type": "execute_result"
    }
   ],
   "source": [
    "np.percentile(dataset[\"High\"],80)"
   ]
  },
  {
   "cell_type": "code",
   "execution_count": 77,
   "metadata": {},
   "outputs": [],
   "source": [
    "def get_pdf_probability(dataset,startrange,endrange):\n",
    "    from matplotlib import pyplot\n",
    "    from scipy.stats import norm\n",
    "    import seaborn as sns\n",
    "    ax = sns.distplot(dataset,kde=True,kde_kws={'color':'blue'},color='Green')\n",
    "    pyplot.axvline(startrange,color='Red')\n",
    "    pyplot.axvline(endrange,color='Red')\n",
    "    # generate a sample\n",
    "    sample = dataset\n",
    "    # calculate parameters\n",
    "    sample_mean =sample.mean()\n",
    "    sample_std = sample.std()\n",
    "    print('Mean=%.3f, Standard Deviation=%.3f' % (sample_mean, sample_std))\n",
    "    # define the distribution\n",
    "    dist = norm(sample_mean, sample_std)\n",
    "    \n",
    "    # sample probabilities for a range of outcomes\n",
    "    values = [value for value in range(startrange, endrange)]\n",
    "    probabilities = [dist.pdf(value) for value in values]    \n",
    "    prob=sum(probabilities)\n",
    "    print(\"The area between range({},{}):{}\".format(startrange,endrange,sum(probabilities)))\n",
    "    return prob\n",
    "    "
   ]
  },
  {
   "cell_type": "code",
   "execution_count": 145,
   "metadata": {},
   "outputs": [
    {
     "name": "stdout",
     "output_type": "stream",
     "text": [
      "Mean=134.889, Standard Deviation=6.977\n",
      "The area between range(135,140):0.2680860706284443\n"
     ]
    },
    {
     "data": {
      "text/plain": [
       "0.2680860706284443"
      ]
     },
     "execution_count": 145,
     "metadata": {},
     "output_type": "execute_result"
    },
    {
     "data": {
      "image/png": "[encoded data removed]",
      "text/plain": [
       "<Figure size 432x288 with 1 Axes>"
      ]
     },
     "metadata": {
      "needs_background": "light"
     },
     "output_type": "display_data"
    }
   ],
   "source": [
    "get_pdf_probability(dataset[\"Low\"],135,140)"
   ]
  },
  {
   "cell_type": "code",
   "execution_count": 82,
   "metadata": {},
   "outputs": [],
   "source": [
    "def stdNBgraph(dataset):\n",
    "        # Coverted to standard Normal Distribution\n",
    "    import seaborn as sns\n",
    "    mean=dataset.mean()\n",
    "    std=dataset.std()\n",
    "\n",
    "    values=[i for i in dataset]\n",
    "\n",
    "    z_score=[((j-mean)/std) for j in values]\n",
    "\n",
    "    sns.distplot(z_score,kde=True)\n",
    "\n",
    "    sum(z_score)/len(z_score)\n",
    "    #z_score.std()\n"
   ]
  },
  {
   "cell_type": "code",
   "execution_count": 83,
   "metadata": {},
   "outputs": [
    {
     "data": {
      "image/png": "[encoded data removed]",
      "text/plain": [
       "<Figure size 432x288 with 1 Axes>"
      ]
     },
     "metadata": {
      "needs_background": "light"
     },
     "output_type": "display_data"
    }
   ],
   "source": [
    "stdNBgraph(dataset[\"Low\"])"
   ]
  },
  {
   "cell_type": "code",
   "execution_count": 167,
   "metadata": {},
   "outputs": [],
   "source": [
    "def freqTable(columnName,dataset):\n",
    "    import pandas as pd\n",
    "    frq=pd.DataFrame()\n",
    "    frq[\"Unique_Values\"]=dataset[columnName].value_counts().index\n",
    "    frq[\"Frequency\"]=dataset[columnName].value_counts().values\n",
    "    frq[\"Relative_Fre\"]=dataset[columnName].value_counts().values/len(dataset[columnName])*100\n",
    "    frq[\"Cumulative\"]=frq[\"Relative_Fre\"].cumsum()\n",
    "    return frq"
   ]
  },
  {
   "cell_type": "code",
   "execution_count": 168,
   "metadata": {},
   "outputs": [
    {
     "data": {
      "text/html": [
       "<div>\n",
       "<style scoped>\n",
       "    .dataframe tbody tr th:only-of-type {\n",
       "        vertical-align: middle;\n",
       "    }\n",
       "\n",
       "    .dataframe tbody tr th {\n",
       "        vertical-align: top;\n",
       "    }\n",
       "\n",
       "    .dataframe thead th {\n",
       "        text-align: right;\n",
       "    }\n",
       "</style>\n",
       "<table border=\"1\" class=\"dataframe\">\n",
       "  <thead>\n",
       "    <tr style=\"text-align: right;\">\n",
       "      <th></th>\n",
       "      <th>Unique_Values</th>\n",
       "      <th>Frequency</th>\n",
       "      <th>Relative_Fre</th>\n",
       "      <th>Cumulative</th>\n",
       "    </tr>\n",
       "  </thead>\n",
       "  <tbody>\n",
       "    <tr>\n",
       "      <th>0</th>\n",
       "      <td>29.00</td>\n",
       "      <td>4</td>\n",
       "      <td>3.448276</td>\n",
       "      <td>3.448276</td>\n",
       "    </tr>\n",
       "    <tr>\n",
       "      <th>1</th>\n",
       "      <td>26.50</td>\n",
       "      <td>4</td>\n",
       "      <td>3.448276</td>\n",
       "      <td>6.896552</td>\n",
       "    </tr>\n",
       "    <tr>\n",
       "      <th>2</th>\n",
       "      <td>28.20</td>\n",
       "      <td>3</td>\n",
       "      <td>2.586207</td>\n",
       "      <td>9.482759</td>\n",
       "    </tr>\n",
       "    <tr>\n",
       "      <th>3</th>\n",
       "      <td>27.05</td>\n",
       "      <td>3</td>\n",
       "      <td>2.586207</td>\n",
       "      <td>12.068966</td>\n",
       "    </tr>\n",
       "    <tr>\n",
       "      <th>4</th>\n",
       "      <td>27.10</td>\n",
       "      <td>3</td>\n",
       "      <td>2.586207</td>\n",
       "      <td>14.655172</td>\n",
       "    </tr>\n",
       "    <tr>\n",
       "      <th>...</th>\n",
       "      <td>...</td>\n",
       "      <td>...</td>\n",
       "      <td>...</td>\n",
       "      <td>...</td>\n",
       "    </tr>\n",
       "    <tr>\n",
       "      <th>77</th>\n",
       "      <td>31.35</td>\n",
       "      <td>1</td>\n",
       "      <td>0.862069</td>\n",
       "      <td>96.551724</td>\n",
       "    </tr>\n",
       "    <tr>\n",
       "      <th>78</th>\n",
       "      <td>25.15</td>\n",
       "      <td>1</td>\n",
       "      <td>0.862069</td>\n",
       "      <td>97.413793</td>\n",
       "    </tr>\n",
       "    <tr>\n",
       "      <th>79</th>\n",
       "      <td>28.55</td>\n",
       "      <td>1</td>\n",
       "      <td>0.862069</td>\n",
       "      <td>98.275862</td>\n",
       "    </tr>\n",
       "    <tr>\n",
       "      <th>80</th>\n",
       "      <td>29.30</td>\n",
       "      <td>1</td>\n",
       "      <td>0.862069</td>\n",
       "      <td>99.137931</td>\n",
       "    </tr>\n",
       "    <tr>\n",
       "      <th>81</th>\n",
       "      <td>38.25</td>\n",
       "      <td>1</td>\n",
       "      <td>0.862069</td>\n",
       "      <td>100.000000</td>\n",
       "    </tr>\n",
       "  </tbody>\n",
       "</table>\n",
       "<p>82 rows × 4 columns</p>\n",
       "</div>"
      ],
      "text/plain": [
       "    Unique_Values  Frequency  Relative_Fre  Cumulative\n",
       "0           29.00          4      3.448276    3.448276\n",
       "1           26.50          4      3.448276    6.896552\n",
       "2           28.20          3      2.586207    9.482759\n",
       "3           27.05          3      2.586207   12.068966\n",
       "4           27.10          3      2.586207   14.655172\n",
       "..            ...        ...           ...         ...\n",
       "77          31.35          1      0.862069   96.551724\n",
       "78          25.15          1      0.862069   97.413793\n",
       "79          28.55          1      0.862069   98.275862\n",
       "80          29.30          1      0.862069   99.137931\n",
       "81          38.25          1      0.862069  100.000000\n",
       "\n",
       "[82 rows x 4 columns]"
      ]
     },
     "execution_count": 168,
     "metadata": {},
     "output_type": "execute_result"
    }
   ],
   "source": [
    "freqTable(\"Low\",dataset)"
   ]
  },
  {
   "cell_type": "code",
   "execution_count": 169,
   "metadata": {},
   "outputs": [
    {
     "data": {
      "text/html": [
       "<div>\n",
       "<style scoped>\n",
       "    .dataframe tbody tr th:only-of-type {\n",
       "        vertical-align: middle;\n",
       "    }\n",
       "\n",
       "    .dataframe tbody tr th {\n",
       "        vertical-align: top;\n",
       "    }\n",
       "\n",
       "    .dataframe thead th {\n",
       "        text-align: right;\n",
       "    }\n",
       "</style>\n",
       "<table border=\"1\" class=\"dataframe\">\n",
       "  <thead>\n",
       "    <tr style=\"text-align: right;\">\n",
       "      <th></th>\n",
       "      <th>Unique_Values</th>\n",
       "      <th>Frequency</th>\n",
       "      <th>Relative_Fre</th>\n",
       "      <th>Cumulative</th>\n",
       "    </tr>\n",
       "  </thead>\n",
       "  <tbody>\n",
       "    <tr>\n",
       "      <th>0</th>\n",
       "      <td>27.50</td>\n",
       "      <td>4</td>\n",
       "      <td>3.448276</td>\n",
       "      <td>3.448276</td>\n",
       "    </tr>\n",
       "    <tr>\n",
       "      <th>1</th>\n",
       "      <td>27.45</td>\n",
       "      <td>3</td>\n",
       "      <td>2.586207</td>\n",
       "      <td>6.034483</td>\n",
       "    </tr>\n",
       "    <tr>\n",
       "      <th>2</th>\n",
       "      <td>28.90</td>\n",
       "      <td>3</td>\n",
       "      <td>2.586207</td>\n",
       "      <td>8.620690</td>\n",
       "    </tr>\n",
       "    <tr>\n",
       "      <th>3</th>\n",
       "      <td>27.40</td>\n",
       "      <td>3</td>\n",
       "      <td>2.586207</td>\n",
       "      <td>11.206897</td>\n",
       "    </tr>\n",
       "    <tr>\n",
       "      <th>4</th>\n",
       "      <td>29.00</td>\n",
       "      <td>3</td>\n",
       "      <td>2.586207</td>\n",
       "      <td>13.793103</td>\n",
       "    </tr>\n",
       "    <tr>\n",
       "      <th>...</th>\n",
       "      <td>...</td>\n",
       "      <td>...</td>\n",
       "      <td>...</td>\n",
       "      <td>...</td>\n",
       "    </tr>\n",
       "    <tr>\n",
       "      <th>78</th>\n",
       "      <td>34.80</td>\n",
       "      <td>1</td>\n",
       "      <td>0.862069</td>\n",
       "      <td>96.551724</td>\n",
       "    </tr>\n",
       "    <tr>\n",
       "      <th>79</th>\n",
       "      <td>36.70</td>\n",
       "      <td>1</td>\n",
       "      <td>0.862069</td>\n",
       "      <td>97.413793</td>\n",
       "    </tr>\n",
       "    <tr>\n",
       "      <th>80</th>\n",
       "      <td>31.70</td>\n",
       "      <td>1</td>\n",
       "      <td>0.862069</td>\n",
       "      <td>98.275862</td>\n",
       "    </tr>\n",
       "    <tr>\n",
       "      <th>81</th>\n",
       "      <td>30.70</td>\n",
       "      <td>1</td>\n",
       "      <td>0.862069</td>\n",
       "      <td>99.137931</td>\n",
       "    </tr>\n",
       "    <tr>\n",
       "      <th>82</th>\n",
       "      <td>38.25</td>\n",
       "      <td>1</td>\n",
       "      <td>0.862069</td>\n",
       "      <td>100.000000</td>\n",
       "    </tr>\n",
       "  </tbody>\n",
       "</table>\n",
       "<p>83 rows × 4 columns</p>\n",
       "</div>"
      ],
      "text/plain": [
       "    Unique_Values  Frequency  Relative_Fre  Cumulative\n",
       "0           27.50          4      3.448276    3.448276\n",
       "1           27.45          3      2.586207    6.034483\n",
       "2           28.90          3      2.586207    8.620690\n",
       "3           27.40          3      2.586207   11.206897\n",
       "4           29.00          3      2.586207   13.793103\n",
       "..            ...        ...           ...         ...\n",
       "78          34.80          1      0.862069   96.551724\n",
       "79          36.70          1      0.862069   97.413793\n",
       "80          31.70          1      0.862069   98.275862\n",
       "81          30.70          1      0.862069   99.137931\n",
       "82          38.25          1      0.862069  100.000000\n",
       "\n",
       "[83 rows x 4 columns]"
      ]
     },
     "execution_count": 169,
     "metadata": {},
     "output_type": "execute_result"
    }
   ],
   "source": [
    "freqTable(\"High\",dataset)"
   ]
  },
  {
   "cell_type": "code",
   "execution_count": 86,
   "metadata": {
    "scrolled": false
   },
   "outputs": [],
   "source": [
    "fh=freqTable(\"High\",dataset)"
   ]
  },
  {
   "cell_type": "code",
   "execution_count": 90,
   "metadata": {},
   "outputs": [
    {
     "data": {
      "text/html": [
       "<div>\n",
       "<style scoped>\n",
       "    .dataframe tbody tr th:only-of-type {\n",
       "        vertical-align: middle;\n",
       "    }\n",
       "\n",
       "    .dataframe tbody tr th {\n",
       "        vertical-align: top;\n",
       "    }\n",
       "\n",
       "    .dataframe thead th {\n",
       "        text-align: right;\n",
       "    }\n",
       "</style>\n",
       "<table border=\"1\" class=\"dataframe\">\n",
       "  <thead>\n",
       "    <tr style=\"text-align: right;\">\n",
       "      <th></th>\n",
       "      <th>Unique_Values</th>\n",
       "      <th>Frequency</th>\n",
       "      <th>Relative_Fre</th>\n",
       "      <th>Cumulative</th>\n",
       "    </tr>\n",
       "  </thead>\n",
       "  <tbody>\n",
       "    <tr>\n",
       "      <th>0</th>\n",
       "      <td>193.95</td>\n",
       "      <td>2</td>\n",
       "      <td>1.315789</td>\n",
       "      <td>1.315789</td>\n",
       "    </tr>\n",
       "    <tr>\n",
       "      <th>6</th>\n",
       "      <td>207.80</td>\n",
       "      <td>2</td>\n",
       "      <td>1.315789</td>\n",
       "      <td>9.210526</td>\n",
       "    </tr>\n",
       "    <tr>\n",
       "      <th>1</th>\n",
       "      <td>209.50</td>\n",
       "      <td>2</td>\n",
       "      <td>1.315789</td>\n",
       "      <td>2.631579</td>\n",
       "    </tr>\n",
       "    <tr>\n",
       "      <th>10</th>\n",
       "      <td>214.70</td>\n",
       "      <td>2</td>\n",
       "      <td>1.315789</td>\n",
       "      <td>14.473684</td>\n",
       "    </tr>\n",
       "    <tr>\n",
       "      <th>8</th>\n",
       "      <td>218.70</td>\n",
       "      <td>2</td>\n",
       "      <td>1.315789</td>\n",
       "      <td>11.842105</td>\n",
       "    </tr>\n",
       "    <tr>\n",
       "      <th>...</th>\n",
       "      <td>...</td>\n",
       "      <td>...</td>\n",
       "      <td>...</td>\n",
       "      <td>...</td>\n",
       "    </tr>\n",
       "    <tr>\n",
       "      <th>47</th>\n",
       "      <td>202.00</td>\n",
       "      <td>1</td>\n",
       "      <td>0.657895</td>\n",
       "      <td>38.815789</td>\n",
       "    </tr>\n",
       "    <tr>\n",
       "      <th>46</th>\n",
       "      <td>192.50</td>\n",
       "      <td>1</td>\n",
       "      <td>0.657895</td>\n",
       "      <td>38.157895</td>\n",
       "    </tr>\n",
       "    <tr>\n",
       "      <th>45</th>\n",
       "      <td>187.50</td>\n",
       "      <td>1</td>\n",
       "      <td>0.657895</td>\n",
       "      <td>37.500000</td>\n",
       "    </tr>\n",
       "    <tr>\n",
       "      <th>44</th>\n",
       "      <td>186.50</td>\n",
       "      <td>1</td>\n",
       "      <td>0.657895</td>\n",
       "      <td>36.842105</td>\n",
       "    </tr>\n",
       "    <tr>\n",
       "      <th>140</th>\n",
       "      <td>190.00</td>\n",
       "      <td>1</td>\n",
       "      <td>0.657895</td>\n",
       "      <td>100.000000</td>\n",
       "    </tr>\n",
       "  </tbody>\n",
       "</table>\n",
       "<p>141 rows × 4 columns</p>\n",
       "</div>"
      ],
      "text/plain": [
       "     Unique_Values  Frequency  Relative_Fre  Cumulative\n",
       "0           193.95          2      1.315789    1.315789\n",
       "6           207.80          2      1.315789    9.210526\n",
       "1           209.50          2      1.315789    2.631579\n",
       "10          214.70          2      1.315789   14.473684\n",
       "8           218.70          2      1.315789   11.842105\n",
       "..             ...        ...           ...         ...\n",
       "47          202.00          1      0.657895   38.815789\n",
       "46          192.50          1      0.657895   38.157895\n",
       "45          187.50          1      0.657895   37.500000\n",
       "44          186.50          1      0.657895   36.842105\n",
       "140         190.00          1      0.657895  100.000000\n",
       "\n",
       "[141 rows x 4 columns]"
      ]
     },
     "execution_count": 90,
     "metadata": {},
     "output_type": "execute_result"
    }
   ],
   "source": [
    "fh.sort_values(by=\"Frequency\",ascending=False)"
   ]
  },
  {
   "cell_type": "code",
   "execution_count": 104,
   "metadata": {},
   "outputs": [],
   "source": [
    "fhs=fh[fh[\"Frequency\"]==2][\"Unique_Values\"].sort_values(ascending=False)"
   ]
  },
  {
   "cell_type": "code",
   "execution_count": 105,
   "metadata": {},
   "outputs": [
    {
     "data": {
      "text/plain": [
       "8     218.70\n",
       "3     218.30\n",
       "10    214.70\n",
       "7     213.00\n",
       "1     209.50\n",
       "6     207.80\n",
       "9     206.00\n",
       "2     204.05\n",
       "0     193.95\n",
       "4     189.00\n",
       "5     178.70\n",
       "Name: Unique_Values, dtype: float64"
      ]
     },
     "execution_count": 105,
     "metadata": {},
     "output_type": "execute_result"
    }
   ],
   "source": [
    "fhs"
   ]
  },
  {
   "cell_type": "code",
   "execution_count": null,
   "metadata": {},
   "outputs": [],
   "source": []
  }
 ],
 "metadata": {
  "kernelspec": {
   "display_name": "Python 3",
   "language": "python",
   "name": "python3"
  },
  "language_info": {
   "codemirror_mode": {
    "name": "ipython",
    "version": 3
   },
   "file_extension": ".py",
   "mimetype": "text/x-python",
   "name": "python",
   "nbconvert_exporter": "python",
   "pygments_lexer": "ipython3",
   "version": "3.7.6"
  }
 },
 "nbformat": 4,
 "nbformat_minor": 2
}
